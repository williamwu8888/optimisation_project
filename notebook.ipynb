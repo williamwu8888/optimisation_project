{
 "cells": [
  {
   "cell_type": "markdown",
   "metadata": {},
   "source": [
    "# MU4MEN01 - Introduction à l'optimisation\n",
    "\n",
    "## Projet : Dimensionnement de stockage embarqué dans un tramway\n",
    "\n",
    "### Objectifs du projet :\n",
    "\n",
    "Lors de ce projet d'optimisation, nous essaierons de :\n",
    "- Mettre en œuvre une démarche d’optimisation pour la conception d’un système,\n",
    "- Comprendre le principe de l’alimentation électrique des tramways,\n",
    "- Découvrir l’optimisation multi-critères et le concept d’optimalité au  sens de Pareto,\n",
    "- Et mettre en œuvre l’algorithme génétique `NSGA-2`. \n",
    "___\n",
    "\n",
    "### Étudiants : Jacques GUÉRIN (21112101) - William WU (21107936)\n",
    "- mail 1 : jacques.guerin@etu.sorbonne-universite.fr\n",
    "- mail 2 : William.Wu@etu.sorbonne-universite.fr\n",
    "___"
   ]
  },
  {
   "cell_type": "code",
   "execution_count": null,
   "metadata": {},
   "outputs": [],
   "source": []
  }
 ],
 "metadata": {
  "language_info": {
   "name": "python"
  }
 },
 "nbformat": 4,
 "nbformat_minor": 2
}
